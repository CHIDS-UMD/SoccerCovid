{
 "cells": [
  {
   "cell_type": "code",
   "execution_count": 80,
   "id": "b5b4c6fe-a58e-4c4b-95b6-f76f3460b9b1",
   "metadata": {},
   "outputs": [],
   "source": [
    "import pandas as pd"
   ]
  },
  {
   "cell_type": "code",
   "execution_count": 97,
   "id": "236e5de0-40ee-464e-91fa-ed505a7cbfb8",
   "metadata": {},
   "outputs": [],
   "source": [
    "dates = ['2019-20', '2020-21', '2021-22']\n",
    "match_details = pd.DataFrame()\n",
    "for date in dates:\n",
    "    file_name = 'covid_soccer_' + date + '.csv'\n",
    "    if match_details.empty:\n",
    "        match_details = pd.read_csv(file_name)\n",
    "    else:\n",
    "        match_details = pd.concat([match_details, pd.read_csv(file_name)])\n",
    "\n",
    "def total_score(match):\n",
    "    if match['teamA_score']+match['teamB_score']>4 and abs(match['teamA_score']-match['teamB_score'])>3:\n",
    "        return 1\n",
    "\n",
    "match_details['high_impact'] = match_details.apply(total_score, axis = 1)\n",
    "\n",
    "match_details = match_details[match_details['high_impact']==1]\n",
    "\n",
    "match_details = match_details.loc[:, 'schedule':'teamB_score']\n",
    "\n",
    "match_details.reset_index(inplace = True, drop=True)\n",
    "\n",
    "match_details.to_csv('high_impact.csv')"
   ]
  }
 ],
 "metadata": {
  "kernelspec": {
   "display_name": "Python 3",
   "language": "python",
   "name": "python3"
  },
  "language_info": {
   "codemirror_mode": {
    "name": "ipython",
    "version": 3
   },
   "file_extension": ".py",
   "mimetype": "text/x-python",
   "name": "python",
   "nbconvert_exporter": "python",
   "pygments_lexer": "ipython3",
   "version": "3.8.8"
  }
 },
 "nbformat": 4,
 "nbformat_minor": 5
}
