{
 "cells": [
  {
   "cell_type": "markdown",
   "id": "c868404a",
   "metadata": {},
   "source": [
    "# CITY COVID INFO\n",
    "\n",
    "\n",
    "Aim: Focus on One City, get covid-19 information. \n",
    "\n",
    "Please explore the information in https://coronavirus.data.gov.uk/details/cases\n",
    "\n",
    "And check how their APIs work.\n",
    "\n",
    "https://coronavirus.data.gov.uk/details/developers-guide/main-api\n",
    "\n"
   ]
  },
  {
   "cell_type": "code",
   "execution_count": 1,
   "id": "83f50f12-8269-4499-9ea9-9724dd1427bc",
   "metadata": {
    "ExecuteTime": {
     "end_time": "2022-02-05T17:54:42.757597Z",
     "start_time": "2022-02-05T17:54:42.748779Z"
    }
   },
   "outputs": [],
   "source": [
    "import requests\n",
    "import urllib\n",
    "import pandas as pd"
   ]
  },
  {
   "cell_type": "markdown",
   "id": "01684f5b",
   "metadata": {},
   "source": [
    "# CITY LIST"
   ]
  },
  {
   "cell_type": "code",
   "execution_count": 2,
   "id": "c4022d13",
   "metadata": {
    "ExecuteTime": {
     "end_time": "2022-02-05T17:51:32.449428Z",
     "start_time": "2022-02-05T17:51:32.408121Z"
    }
   },
   "outputs": [],
   "source": [
    "city_list = ['Brighton and Hove',\n",
    " 'Liverpool',\n",
    " 'Sheffield',\n",
    " 'London',\n",
    " 'Norfolk',\n",
    " 'Leeds',\n",
    " 'Manchester',\n",
    " 'East Hampshire',\n",
    " 'Leicester',\n",
    " 'Wolverhampton',\n",
    " 'Newcastle upon Tyne',\n",
    " 'Southampton',\n",
    " 'Burnley',\n",
    " 'Hertfordshire',\n",
    " 'Birmingham',\n",
    " 'Bournemouth, Christchurch and Poole']"
   ]
  },
  {
   "cell_type": "code",
   "execution_count": 3,
   "id": "5307a1e2-2a20-4996-8882-f8e54508d759",
   "metadata": {},
   "outputs": [],
   "source": [
    "def get_data(url):\n",
    "    \"\"\"Gets data from url and returns json response\"\"\"\n",
    "    response = requests.get(endpoint, timeout=10)\n",
    "    if response.status_code >= 400:\n",
    "        raise RuntimeError(f'Request failed: { response.text }')\n",
    "    return response.json()\n",
    "\n",
    "# Prep request payload\n",
    "endpoint = 'https://coronavirus.data.gov.uk/api/v1/data?'\n",
    "structure = '{\"date\":\"date\"}'#,\"newCases\":\"newCasesBySpecimenDate\",\"cumNewCases\":\"cumCasesBySpecimenDate\"}'\n",
    "encoded_structure = urllib.parse.quote(structure)\n",
    "areaType = 'ltla'\n",
    "\n",
    "# Dict for each city result\n",
    "results = {}\n",
    "\n",
    "for city in (city for city in city_list if city != 'London'):\n",
    "    params = f'filters=areaType={areaType};areaName={city}&structure={encoded_structure}'\n",
    "    response = get_data(endpoint+params)\n",
    "    results[city] = response['data']\n",
    "    \n",
    "areaType = 'region'\n",
    "city = 'London'\n",
    "params = f'filters=areaType={areaType};areaName={city}&structure={encoded_structure}'\n",
    "response = get_data(endpoint+params)\n",
    "results[city] = response['data']\n",
    "\n",
    "result_df = pd.DataFrame()\n",
    "\n",
    "rename_columns = {'city': 'CityName', 'date': 'Date', 'latestBy': 'DailyCases', 'confirmed': 'CummulativeCases', 'areaName': 'AreaName'}\n",
    "csv_columns = ['Date','CityName','AreaName','DailyCases','CummulativeCases']\n",
    "\n",
    "# Create dataframe from dict\n",
    "for city in results.keys():\n",
    "    results[city] = [{**x, 'city': city} for x in results[city]]\n",
    "    city_df = pd.DataFrame(results[city])\n",
    "    result_df = pd.concat([result_df, city_df], axis=0)\n",
    "    \n",
    "    # Create individual city csv\n",
    "    city_df.rename(columns=rename_columns, inplace=True)\n",
    "    city_df.to_csv(f'raw/{city}_DAILY_CASES.csv', columns = csv_columns)    \n",
    "    \n",
    "# Create all cities csv from dataframe\n",
    "result_df.rename(columns=rename_columns, inplace=True)\n",
    "result_df.to_csv('raw/ALL_CITY_DAILY_CASES.csv', columns = csv_columns)"
   ]
  }
 ],
 "metadata": {
  "kernelspec": {
   "display_name": "Python 3",
   "language": "python",
   "name": "python3"
  },
  "language_info": {
   "codemirror_mode": {
    "name": "ipython",
    "version": 3
   },
   "file_extension": ".py",
   "mimetype": "text/x-python",
   "name": "python",
   "nbconvert_exporter": "python",
   "pygments_lexer": "ipython3",
   "version": "3.8.8"
  },
  "toc": {
   "base_numbering": 1,
   "nav_menu": {},
   "number_sections": true,
   "sideBar": true,
   "skip_h1_title": false,
   "title_cell": "Table of Contents",
   "title_sidebar": "Contents",
   "toc_cell": false,
   "toc_position": {},
   "toc_section_display": true,
   "toc_window_display": false
  }
 },
 "nbformat": 4,
 "nbformat_minor": 5
}
