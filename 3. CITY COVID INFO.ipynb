{
 "cells": [
  {
   "cell_type": "markdown",
   "id": "c868404a",
   "metadata": {},
   "source": [
    "# CITY COVID INFO\n",
    "\n",
    "\n",
    "Aim: Focus on One City, get covid-19 information. \n",
    "\n",
    "Please explore the information in https://coronavirus.data.gov.uk/details/cases\n",
    "\n",
    "And check how their APIs work.\n",
    "\n",
    "https://coronavirus.data.gov.uk/details/developers-guide/main-api\n",
    "\n"
   ]
  },
  {
   "cell_type": "code",
   "execution_count": 2,
   "id": "9c6a4148",
   "metadata": {
    "ExecuteTime": {
     "end_time": "2022-02-05T17:54:42.757597Z",
     "start_time": "2022-02-05T17:54:42.748779Z"
    }
   },
   "outputs": [],
   "source": [
    "url = 'https://coronavirus.data.gov.uk/details/download'\n",
    "city = 'London'"
   ]
  },
  {
   "cell_type": "markdown",
   "id": "01684f5b",
   "metadata": {},
   "source": [
    "# CITY LIST"
   ]
  },
  {
   "cell_type": "code",
   "execution_count": 1,
   "id": "c4022d13",
   "metadata": {
    "ExecuteTime": {
     "end_time": "2022-02-05T17:51:32.449428Z",
     "start_time": "2022-02-05T17:51:32.408121Z"
    }
   },
   "outputs": [
    {
     "data": {
      "text/plain": [
       "['Brighton and Hove',\n",
       " 'Liverpool',\n",
       " 'Sheffield',\n",
       " 'London',\n",
       " 'Norfolk',\n",
       " 'Leeds',\n",
       " 'Manchester',\n",
       " 'East Hampshire',\n",
       " 'Leicester',\n",
       " 'Wolverhampton',\n",
       " 'Newcastle upon Tyne',\n",
       " 'Southampton',\n",
       " 'Burnley',\n",
       " 'Hertfordshire',\n",
       " 'Birmingham',\n",
       " 'Bournemouth, Christchurch and Poole']"
      ]
     },
     "execution_count": 1,
     "metadata": {},
     "output_type": "execute_result"
    }
   ],
   "source": [
    "['Brighton and Hove',\n",
    " 'Liverpool',\n",
    " 'Sheffield',\n",
    " 'London',\n",
    " 'Norfolk',\n",
    " 'Leeds',\n",
    " 'Manchester',\n",
    " 'East Hampshire',\n",
    " 'Leicester',\n",
    " 'Wolverhampton',\n",
    " 'Newcastle upon Tyne',\n",
    " 'Southampton',\n",
    " 'Burnley',\n",
    " 'Hertfordshire',\n",
    " 'Birmingham',\n",
    " 'Bournemouth, Christchurch and Poole']"
   ]
  },
  {
   "cell_type": "code",
   "execution_count": null,
   "id": "524d96aa",
   "metadata": {},
   "outputs": [],
   "source": []
  }
 ],
 "metadata": {
  "kernelspec": {
   "display_name": "Python 3 (ipykernel)",
   "language": "python",
   "name": "python3"
  },
  "language_info": {
   "codemirror_mode": {
    "name": "ipython",
    "version": 3
   },
   "file_extension": ".py",
   "mimetype": "text/x-python",
   "name": "python",
   "nbconvert_exporter": "python",
   "pygments_lexer": "ipython3",
   "version": "3.9.6"
  },
  "toc": {
   "base_numbering": 1,
   "nav_menu": {},
   "number_sections": true,
   "sideBar": true,
   "skip_h1_title": false,
   "title_cell": "Table of Contents",
   "title_sidebar": "Contents",
   "toc_cell": false,
   "toc_position": {},
   "toc_section_display": true,
   "toc_window_display": false
  }
 },
 "nbformat": 4,
 "nbformat_minor": 5
}
