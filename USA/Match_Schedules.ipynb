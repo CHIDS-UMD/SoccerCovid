{
 "cells": [
  {
   "cell_type": "markdown",
   "id": "55c89fc0-a6ae-4330-914e-edfbdf11f792",
   "metadata": {},
   "source": [
    "## SoccerCovid MLS USA"
   ]
  },
  {
   "cell_type": "code",
   "execution_count": 1,
   "id": "2ef7c69d-dccc-41ae-af85-5e1c997d617a",
   "metadata": {
    "tags": []
   },
   "outputs": [],
   "source": [
    "from bs4 import BeautifulSoup\n",
    "import requests\n",
    "import pandas as pd\n",
    "import numpy as np"
   ]
  },
  {
   "cell_type": "code",
   "execution_count": 2,
   "id": "eede3231-6914-42e1-baab-be6b62707efb",
   "metadata": {
    "tags": []
   },
   "outputs": [],
   "source": [
    "dates_range = ['2019', '2019-playoffs', '2020', '2020-mls-is-back-tournament', '2020-playoffs', '2021', '2021-playoffs']\n",
    "year_range = dates_range[6] # till 6"
   ]
  },
  {
   "cell_type": "code",
   "execution_count": 3,
   "id": "3916632a-8e20-4237-a42b-e684db987ea1",
   "metadata": {
    "tags": []
   },
   "outputs": [
    {
     "name": "stdout",
     "output_type": "stream",
     "text": [
      "Stage 1 Complete\n",
      "Stage 2 Complete\n",
      "Stage 3 Complete\n",
      "/report/major-league-soccer-2021-playoffs-1-runde-philadelphia-union-new-york-rb/\n",
      "/report/major-league-soccer-2021-playoffs-1-runde-sporting-kansas-city-vancouver-whitecaps/\n",
      "/report/major-league-soccer-2021-playoffs-1-runde-new-york-city-fc-atlanta-united-fc/\n",
      "/report/major-league-soccer-2021-playoffs-1-runde-portland-timbers-minnesota-united-fc/\n",
      "/report/major-league-soccer-2021-playoffs-1-runde-nashville-sc-orlando-city/\n",
      "/report/major-league-soccer-2021-playoffs-1-runde-seattle-sounders-real-salt-lake/\n",
      "nan\n",
      "/report/major-league-soccer-2021-playoffs-conference-semifinals-colorado-rapids-portland-timbers/\n",
      "/report/major-league-soccer-2021-playoffs-conference-semifinals-sporting-kansas-city-real-salt-lake/\n",
      "/report/major-league-soccer-2021-playoffs-conference-semifinals-philadelphia-union-nashville-sc/\n",
      "/report/major-league-soccer-2021-playoffs-conference-semifinals-new-england-revolution-new-york-city-fc/\n",
      "nan\n",
      "/report/major-league-soccer-2021-playoffs-conference-finals-portland-timbers-real-salt-lake/\n",
      "/report/major-league-soccer-2021-playoffs-conference-finals-philadelphia-union-new-york-city-fc/\n",
      "nan\n",
      "/report/major-league-soccer-2021-playoffs-finale-portland-timbers-new-york-city-fc/\n"
     ]
    },
    {
     "name": "stderr",
     "output_type": "stream",
     "text": [
      "<ipython-input-3-c4b834f33a14>:81: FutureWarning: The default value of regex will change from True to False in a future version. In addition, single character regular expressions will*not* be treated as literal strings when regex=True.\n",
      "  schedule_df['venue_country'] = schedule_df['venue_country'].str.replace(')', '')\n"
     ]
    },
    {
     "name": "stdout",
     "output_type": "stream",
     "text": [
      "Stage 4 Complete\n",
      "Stage 5 Complete\n",
      "Stage 6 Complete\n"
     ]
    }
   ],
   "source": [
    "base_url = 'https://www.worldfootball.net/all_matches/usa-major-league-soccer-'\n",
    "\n",
    "page = requests.get(base_url+year_range)\n",
    "soup = BeautifulSoup(page.content, \"html.parser\")\n",
    "table_div = soup.find_all(\"div\", {\"class\": \"data\"})\n",
    "table_tag = table_div[2].find(\"table\")\n",
    "schedule_df = pd.read_html(str(table_tag))[0]\n",
    "\n",
    "print('Stage 1 Complete')\n",
    "\n",
    "# Clean up df columns\n",
    "schedule_df.columns = ['date', 'time', 'teamA', 'd1', 'teamB', 'score', 'd2']\n",
    "del schedule_df['d1']\n",
    "del schedule_df['d2']\n",
    "\n",
    "# Process dates \n",
    "schedule_df['date'].fillna(method='ffill', inplace=True)\n",
    "\n",
    "# Get individual match details url\n",
    "rows = table_tag.findAll('tr')\n",
    "match_url = []\n",
    "\n",
    "for row in rows[1:]:\n",
    "    if row.findAll('td') and row.findAll('td')[5].find('a'):\n",
    "        match_url.append(row.findAll('td')[5].find('a')['href'])\n",
    "    else:\n",
    "        match_url.append(np.NaN)\n",
    "schedule_df['match_url'] = match_url\n",
    "\n",
    "# Split score for individual teams\n",
    "schedule_df[['score', 'd3']] = schedule_df['score'].str.split('(',expand=True)\n",
    "schedule_df[['teamA_score', 'teamB_score']] = schedule_df['score'].str.split(':', expand=True)\n",
    "\n",
    "schedule_df['teamA_score'] = pd.to_numeric(schedule_df['teamA_score'], errors='coerce')\n",
    "schedule_df['teamB_score'] = pd.to_numeric(schedule_df['teamB_score'], errors='coerce')\n",
    "\n",
    "# Clean excess columns\n",
    "del schedule_df['score']\n",
    "del schedule_df['d3']\n",
    "\n",
    "print('Stage 2 Complete')\n",
    "\n",
    "# Get winner details \n",
    "def get_winner_details(record):\n",
    "    if(record['teamA_score'] and record['teamA_score'] > record['teamB_score']):\n",
    "        return record['teamA'], record['teamA_score']\n",
    "    elif(record['teamB_score'] > record['teamA_score']):\n",
    "        return record['teamB'], record['teamB_score']\n",
    "    else:\n",
    "        return np.NaN,np.NaN\n",
    "    \n",
    "schedule_df['teamA_score'] = pd.to_numeric(schedule_df['teamA_score'])\n",
    "schedule_df['teamB_score'] = pd.to_numeric(schedule_df['teamB_score'])\n",
    "\n",
    "schedule_df[['winner_Team','winner_score']] = pd.DataFrame(schedule_df\n",
    "                                                           .apply(get_winner_details, axis=1)\n",
    "                                                           .tolist(), index=schedule_df.index) \n",
    "print('Stage 3 Complete')\n",
    "\n",
    "def get_venue_details(url):\n",
    "    print(url)\n",
    "    if type(url) == float:\n",
    "        return np.nan\n",
    "    url = 'https://www.worldfootball.net' + url\n",
    "    page = requests.get(url)\n",
    "    soup = BeautifulSoup(page.content, \"html.parser\")\n",
    "    if soup.find_all(\"td\", {\"width\": \"50%\"}) and len(soup.find_all(\"td\", {\"width\": \"50%\"}))>4:\n",
    "        href = soup.find_all(\"td\", {\"width\": \"50%\"})[4]\n",
    "        url = href.find('a').get('href')\n",
    "        url = 'https://www.worldfootball.net'+url\n",
    "        page = requests.get(url)\n",
    "        soup = BeautifulSoup(page.content, \"html.parser\")\n",
    "        return soup.find(\"div\", {\"class\": \"breadcrumb\"}).text\n",
    "    return np.nan \n",
    "\n",
    "# Process venue location details\n",
    "schedule_df['venue_location'] = schedule_df['match_url'].apply(get_venue_details)\n",
    "schedule_df[\"venue_location\"] = schedule_df[\"venue_location\"].str.replace('\\n', '')\n",
    "schedule_df[['venue', 'venue_city', 'venue_state']] = schedule_df[\"venue_location\"].str.split(\",\", expand= True)\n",
    "schedule_df[['venue_state', 'venue_country']] = schedule_df['venue_state'].str.split(\"(\", expand=True)\n",
    "schedule_df['venue_country'] = schedule_df['venue_country'].str.replace(')', '')\n",
    "\n",
    "print('Stage 4 Complete')\n",
    "\n",
    "# Clean columns \n",
    "del schedule_df['match_url']\n",
    "\n",
    "# Get each teams home stadium location details\n",
    "base_url = 'https://www.worldfootball.net/players/usa-major-league-soccer-'\n",
    "\n",
    "page = requests.get(base_url+year_range)\n",
    "soup = BeautifulSoup(page.content, \"html.parser\")\n",
    "table_div = soup.find_all(\"div\", {\"class\": \"data\"})\n",
    "table_tag = table_div[2].find(\"table\")\n",
    "\n",
    "teams_df = pd.read_html(str(table_tag))[0]\n",
    "teams_df = teams_df.drop(teams_df.columns[2:], axis=1)\n",
    "del teams_df[0]\n",
    "teams_df.columns = ['team']\n",
    "\n",
    "url = []\n",
    "for tr in table_tag.find_all('tr'):\n",
    "    tds = tr.find_all('td')\n",
    "    url.append(tds[1].a.get('href'))\n",
    "teams_df['url'] = url\n",
    "\n",
    "print('Stage 5 Complete')\n",
    "\n",
    "def get_venue_location(url):\n",
    "    url = 'https://www.worldfootball.net'+url\n",
    "    page = requests.get(url)\n",
    "    soup = BeautifulSoup(page.content, \"html.parser\")\n",
    "    table_div = soup.find_all(\"table\", {\"class\": \"standard_tabelle yellow\"})[0]\n",
    "    return table_div.a.get('title')\n",
    "\n",
    "teams_df['venue_location'] = teams_df['url'].apply(get_venue_location)\n",
    "del teams_df['url']\n",
    "\n",
    "schedule_df = pd.merge(schedule_df, teams_df, how='left', left_on='winner_Team', right_on='team').drop(columns = ['team'])\n",
    "schedule_df.rename(columns = {\"venue_location_x\":\"venue_location\", \"venue_location_y\": \"winner_location\"}, inplace=True)\n",
    "schedule_df.to_csv('data/mls-'+year_range+'.csv')\n",
    "\n",
    "print('Stage 6 Complete')"
   ]
  }
 ],
 "metadata": {
  "kernelspec": {
   "display_name": "Python 3",
   "language": "python",
   "name": "python3"
  },
  "language_info": {
   "codemirror_mode": {
    "name": "ipython",
    "version": 3
   },
   "file_extension": ".py",
   "mimetype": "text/x-python",
   "name": "python",
   "nbconvert_exporter": "python",
   "pygments_lexer": "ipython3",
   "version": "3.8.8"
  }
 },
 "nbformat": 4,
 "nbformat_minor": 5
}
